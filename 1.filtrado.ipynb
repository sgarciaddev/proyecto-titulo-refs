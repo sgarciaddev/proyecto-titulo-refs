{
 "cells": [
  {
   "cell_type": "code",
   "id": "initial_id",
   "metadata": {
    "collapsed": true,
    "ExecuteTime": {
     "end_time": "2024-08-19T04:20:55.756232Z",
     "start_time": "2024-08-19T04:20:55.452029Z"
    }
   },
   "source": [
    "import os\n",
    "import pandas as pd\n",
    "import bibtexparser\n",
    "import numpy as np\n",
    "\n",
    "curr_dir = os.path.abspath('1.filtrado.ipynb')\n",
    "bib_db = bibtexparser.parse_file(os.path.join(os.path.dirname(curr_dir), \n",
    "                                              'out', 'out.bib'))\n",
    "data = [v for _,v in {e.key: {a.key: a.value for a in e.fields} for e in bib_db.entries}.items()]\n",
    "\n",
    "df = pd.DataFrame(data)\n",
    "\n",
    "print(df.shape)"
   ],
   "outputs": [
    {
     "name": "stdout",
     "output_type": "stream",
     "text": [
      "(417, 55)\n"
     ]
    }
   ],
   "execution_count": 35
  },
  {
   "metadata": {
    "ExecuteTime": {
     "end_time": "2024-08-19T04:25:24.616070Z",
     "start_time": "2024-08-19T04:25:24.604969Z"
    }
   },
   "cell_type": "code",
   "source": [
    "req_cols = [\n",
    "    'title',\n",
    "    'author',\n",
    "    'year',\n",
    "    'abstract',\n",
    "    'doi',\n",
    "    'keywords'\n",
    "]\n",
    "\n",
    "df_filtered = df.copy()\n",
    "df_filtered[req_cols] = df[req_cols].replace(\"\", np.nan)\n",
    "df_filtered.dropna(subset=req_cols, inplace=True)\n",
    "\n",
    "df_filtered.drop(columns=['pmid'], inplace=True)\n",
    "\n",
    "print(df_filtered.shape)"
   ],
   "id": "c90326841a59ada4",
   "outputs": [
    {
     "name": "stdout",
     "output_type": "stream",
     "text": [
      "(298, 54)\n"
     ]
    }
   ],
   "execution_count": 45
  },
  {
   "metadata": {
    "ExecuteTime": {
     "end_time": "2024-08-19T04:25:26.724300Z",
     "start_time": "2024-08-19T04:25:26.683968Z"
    }
   },
   "cell_type": "code",
   "source": [
    "import sqlite3\n",
    "\n",
    "conn = sqlite3.connect(os.path.join(os.path.dirname(curr_dir), 'db', \n",
    "                                    'db.sqlite'))\n",
    "init_sql_path = os.path.join(os.path.dirname(curr_dir), 'db', 'init.sql')\n",
    "try:\n",
    "    with open(init_sql_path, 'r') as f:\n",
    "        conn.executescript(f.read())\n",
    "    df_filtered.to_sql('filtered', conn, index=False, if_exists='append')\n",
    "except Exception as e:\n",
    "    print(f'Error: {e}')\n",
    "\n",
    "conn.close()"
   ],
   "id": "ab421a85edafa540",
   "outputs": [],
   "execution_count": 46
  },
  {
   "metadata": {
    "ExecuteTime": {
     "end_time": "2024-08-19T04:20:55.948425Z",
     "start_time": "2024-08-19T04:20:55.946019Z"
    }
   },
   "cell_type": "code",
   "source": "",
   "id": "583b61395e93e91",
   "outputs": [],
   "execution_count": null
  }
 ],
 "metadata": {
  "kernelspec": {
   "display_name": "Python 3",
   "language": "python",
   "name": "python3"
  },
  "language_info": {
   "codemirror_mode": {
    "name": "ipython",
    "version": 2
   },
   "file_extension": ".py",
   "mimetype": "text/x-python",
   "name": "python",
   "nbconvert_exporter": "python",
   "pygments_lexer": "ipython2",
   "version": "2.7.6"
  }
 },
 "nbformat": 4,
 "nbformat_minor": 5
}
